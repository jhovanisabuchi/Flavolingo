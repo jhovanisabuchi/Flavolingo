{
 "cells": [
  {
   "cell_type": "code",
   "execution_count": 47,
   "metadata": {},
   "outputs": [
    {
     "name": "stderr",
     "output_type": "stream",
     "text": [
      "[nltk_data] Downloading package stopwords to\n",
      "[nltk_data]     C:\\Users\\johnk\\AppData\\Roaming\\nltk_data...\n",
      "[nltk_data]   Package stopwords is already up-to-date!\n"
     ]
    }
   ],
   "source": [
    "import pandas as pd\n",
    "import string\n",
    "import nltk\n",
    "from nltk.tokenize import word_tokenize\n",
    "from nltk.corpus import stopwords\n",
    "nltk.download('stopwords')\n",
    "from nltk.stem import WordNetLemmatizer"
   ]
  },
  {
   "cell_type": "code",
   "execution_count": 2,
   "metadata": {},
   "outputs": [
    {
     "name": "stderr",
     "output_type": "stream",
     "text": [
      "c:\\Users\\johnk\\anaconda3\\envs\\jovani\\lib\\site-packages\\tqdm\\auto.py:21: TqdmWarning: IProgress not found. Please update jupyter and ipywidgets. See https://ipywidgets.readthedocs.io/en/stable/user_install.html\n",
      "  from .autonotebook import tqdm as notebook_tqdm\n",
      "c:\\Users\\johnk\\anaconda3\\envs\\jovani\\lib\\site-packages\\huggingface_hub\\file_download.py:142: UserWarning: `huggingface_hub` cache-system uses symlinks by default to efficiently store duplicated files but your machine does not support them in C:\\Users\\johnk\\.cache\\huggingface\\hub\\models--facebook--nllb-200-distilled-600M. Caching files will still work but in a degraded version that might require more space on your disk. This warning can be disabled by setting the `HF_HUB_DISABLE_SYMLINKS_WARNING` environment variable. For more details, see https://huggingface.co/docs/huggingface_hub/how-to-cache#limitations.\n",
      "To support symlinks on Windows, you either need to activate Developer Mode or to run Python as an administrator. In order to activate developer mode, see this article: https://docs.microsoft.com/en-us/windows/apps/get-started/enable-your-device-for-development\n",
      "  warnings.warn(message)\n"
     ]
    }
   ],
   "source": [
    "# Load model directly\n",
    "from transformers import AutoTokenizer, AutoModelForSeq2SeqLM\n",
    "\n",
    "tokenizer = AutoTokenizer.from_pretrained(\"facebook/nllb-200-distilled-600M\")\n",
    "model = AutoModelForSeq2SeqLM.from_pretrained(\"facebook/nllb-200-distilled-600M\")"
   ]
  },
  {
   "cell_type": "code",
   "execution_count": 19,
   "metadata": {},
   "outputs": [
    {
     "name": "stdout",
     "output_type": "stream",
     "text": [
      "Loading dataset for language pair: en-eo\n"
     ]
    },
    {
     "name": "stderr",
     "output_type": "stream",
     "text": [
      "Map: 100%|██████████| 1562/1562 [00:00<00:00, 8519.65 examples/s]\n"
     ]
    },
    {
     "name": "stdout",
     "output_type": "stream",
     "text": [
      "Loading dataset for language pair: en-es\n"
     ]
    },
    {
     "name": "stderr",
     "output_type": "stream",
     "text": [
      "Map: 100%|██████████| 93470/93470 [00:03<00:00, 24396.55 examples/s]\n"
     ]
    },
    {
     "name": "stdout",
     "output_type": "stream",
     "text": [
      "Loading dataset for language pair: en-fi\n"
     ]
    },
    {
     "name": "stderr",
     "output_type": "stream",
     "text": [
      "Map: 100%|██████████| 3645/3645 [00:00<00:00, 13156.91 examples/s]\n"
     ]
    },
    {
     "name": "stdout",
     "output_type": "stream",
     "text": [
      "Loading dataset for language pair: en-fr\n"
     ]
    },
    {
     "name": "stderr",
     "output_type": "stream",
     "text": [
      "Map: 100%|██████████| 127085/127085 [00:04<00:00, 26099.92 examples/s]\n"
     ]
    },
    {
     "name": "stdout",
     "output_type": "stream",
     "text": [
      "Loading dataset for language pair: en-hu\n"
     ]
    },
    {
     "name": "stderr",
     "output_type": "stream",
     "text": [
      "Map: 100%|██████████| 137151/137151 [00:05<00:00, 24903.39 examples/s]\n"
     ]
    },
    {
     "name": "stdout",
     "output_type": "stream",
     "text": [
      "Loading dataset for language pair: en-it\n"
     ]
    },
    {
     "name": "stderr",
     "output_type": "stream",
     "text": [
      "Map: 100%|██████████| 32332/32332 [00:01<00:00, 25894.88 examples/s]\n"
     ]
    },
    {
     "name": "stdout",
     "output_type": "stream",
     "text": [
      "Loading dataset for language pair: en-nl\n"
     ]
    },
    {
     "name": "stderr",
     "output_type": "stream",
     "text": [
      "Map: 100%|██████████| 38652/38652 [00:01<00:00, 23963.46 examples/s]\n"
     ]
    },
    {
     "name": "stdout",
     "output_type": "stream",
     "text": [
      "Loading dataset for language pair: en-no\n"
     ]
    },
    {
     "name": "stderr",
     "output_type": "stream",
     "text": [
      "Map: 100%|██████████| 3499/3499 [00:00<00:00, 12925.20 examples/s]\n"
     ]
    },
    {
     "name": "stdout",
     "output_type": "stream",
     "text": [
      "Loading dataset for language pair: en-pl\n"
     ]
    },
    {
     "name": "stderr",
     "output_type": "stream",
     "text": [
      "Map: 100%|██████████| 2831/2831 [00:00<00:00, 8650.27 examples/s]\n"
     ]
    },
    {
     "name": "stdout",
     "output_type": "stream",
     "text": [
      "Loading dataset for language pair: en-pt\n"
     ]
    },
    {
     "name": "stderr",
     "output_type": "stream",
     "text": [
      "Map: 100%|██████████| 1404/1404 [00:00<00:00, 6574.39 examples/s]\n"
     ]
    },
    {
     "name": "stdout",
     "output_type": "stream",
     "text": [
      "Loading dataset for language pair: en-ru\n"
     ]
    },
    {
     "name": "stderr",
     "output_type": "stream",
     "text": [
      "Map: 100%|██████████| 17496/17496 [00:00<00:00, 20543.44 examples/s]\n"
     ]
    },
    {
     "name": "stdout",
     "output_type": "stream",
     "text": [
      "Loading dataset for language pair: en-sv\n"
     ]
    },
    {
     "name": "stderr",
     "output_type": "stream",
     "text": [
      "Map: 100%|██████████| 3095/3095 [00:00<00:00, 10199.80 examples/s]"
     ]
    },
    {
     "name": "stdout",
     "output_type": "stream",
     "text": [
      "{'translation': {'src': 'La aventuroj de Alicio en Mirlando', 'tgt': \"ALICE'S ADVENTURES IN WONDERLAND\"}}\n"
     ]
    },
    {
     "name": "stderr",
     "output_type": "stream",
     "text": [
      "\n"
     ]
    }
   ],
   "source": [
    "from datasets import load_dataset, concatenate_datasets, Dataset\n",
    "from datasets.features import Features, Translation\n",
    "\n",
    "# List of available language pairs\n",
    "lang_pairs = [\"en-eo\", \"en-es\", \"en-fi\", \"en-fr\", \"en-hu\", \"en-it\", \"en-nl\", \"en-no\", \"en-pl\", \"en-pt\", \"en-ru\", \"en-sv\"]\n",
    "\n",
    "# Define a unified translation feature schema\n",
    "translation_feature = Features({'translation': Translation(languages=[\"src\", \"tgt\"])})\n",
    "\n",
    "# Load datasets and reverse translations\n",
    "datasets = []\n",
    "for lang_pair in lang_pairs:\n",
    "    print(f\"Loading dataset for language pair: {lang_pair}\")\n",
    "    \n",
    "    # Load only the 'train' split\n",
    "    dataset = load_dataset(\"opus_books\", lang_pair)[\"train\"]\n",
    "    \n",
    "    # Extract language codes\n",
    "    src_lang, tgt_lang = lang_pair.split('-')\n",
    "    \n",
    "    # Reverse translation pairs and remove 'id' column\n",
    "    reversed_data = dataset.map(lambda x: {'translation': {'src': x['translation'][tgt_lang], \n",
    "                                                           'tgt': x['translation'][src_lang]}}, \n",
    "                                remove_columns=['translation', 'id'])  # Remove 'id' column\n",
    "    \n",
    "    datasets.append(reversed_data)\n",
    "\n",
    "# Combine all datasets into one\n",
    "combined_dataset = concatenate_datasets(datasets)\n",
    "\n",
    "# Example of accessing a reversed entry\n",
    "print(combined_dataset[0])\n"
   ]
  },
  {
   "cell_type": "code",
   "execution_count": 24,
   "metadata": {},
   "outputs": [
    {
     "name": "stdout",
     "output_type": "stream",
     "text": [
      "                                         translation\n",
      "0  {'src': 'La aventuroj de Alicio en Mirlando', ...\n",
      "1   {'src': 'LEWIS CARROLL', 'tgt': 'Lewis Carroll'}\n",
      "2  {'src': 'ĈAPITRO I Mirinda Falego!', 'tgt': 'C...\n",
      "3  {'src': 'Alicio, jam longan tempon sidinte apu...\n",
      "4  {'src': 'Ŝi do ekpripensis—ne tre vigle ĉar la...\n",
      "5  {'src': 'Tio ja ne estis tre mirinda, ankaŭ ne...\n",
      "6  {'src': '(Kiam poste ŝi pripensadis la aferon,...\n",
      "7  {'src': 'Ne konsiderinte eĉ unu momenton, kiam...\n",
      "8  {'src': 'La tunelo, ĉe la unuaj paŝoj, konduki...\n",
      "9  {'src': 'Nu, aŭ la ŝakto estis efektive tre pr...\n"
     ]
    }
   ],
   "source": [
    "import pandas as pd\n",
    "\n",
    "# Convert Hugging Face dataset to Pandas DataFrame\n",
    "df = combined_dataset.to_pandas()\n",
    "\n",
    "# Display first few rows\n",
    "print(df.head(10))\n"
   ]
  },
  {
   "cell_type": "code",
   "execution_count": 35,
   "metadata": {},
   "outputs": [
    {
     "data": {
      "text/plain": [
       "(462222, 2)"
      ]
     },
     "execution_count": 35,
     "metadata": {},
     "output_type": "execute_result"
    }
   ],
   "source": [
    "df.shape"
   ]
  },
  {
   "cell_type": "code",
   "execution_count": 36,
   "metadata": {},
   "outputs": [
    {
     "data": {
      "application/vnd.microsoft.datawrangler.viewer.v0+json": {
       "columns": [
        {
         "name": "index",
         "rawType": "int64",
         "type": "integer"
        },
        {
         "name": "src",
         "rawType": "object",
         "type": "string"
        },
        {
         "name": "tgt",
         "rawType": "object",
         "type": "string"
        }
       ],
       "conversionMethod": "pd.DataFrame",
       "ref": "ba13dcfb-ed75-4b38-9257-9415323c95ee",
       "rows": [
        [
         "0",
         "La aventuroj de Alicio en Mirlando",
         "ALICE'S ADVENTURES IN WONDERLAND"
        ],
        [
         "1",
         "LEWIS CARROLL",
         "Lewis Carroll"
        ],
        [
         "2",
         "ĈAPITRO I Mirinda Falego!",
         "CHAPTER I Down the Rabbit-Hole"
        ],
        [
         "3",
         "Alicio, jam longan tempon sidinte apud sia fratino sur la deklivo, tre enuiĝis pro senokupo. Unu, du foje ŝi prove rigardis en la libron kiun la fratino legas, sed povis vidi en ĝi nek desegnojn nek konversaciojn, kaj \"por kio utilas libro,\" pensis ŝi, \"enhavanta nek desegnojn nek konversaciojn?\"",
         "Alice was beginning to get very tired of sitting by her sister on the bank, and of having nothing to do: once or twice she had peeped into the book her sister was reading, but it had no pictures or conversations in it, 'and what is the use of a book,' thought Alice 'without pictures or conversation?'"
        ],
        [
         "4",
         "Ŝi do ekpripensis—ne tre vigle ĉar la tago estis varma, kaj ŝi sentis sin tre dormema—ĉu la plezuro fari ĉenon el lekantetoj valorus la laboron sin levi kaj kolekti lekantetojn, kiam tutapude preterkuris Blanka kuniklo kun paleruĝaj okuloj.",
         "So she was considering in her own mind (as well as she could, for the hot day made her feel very sleepy and stupid), whether the pleasure of making a daisy-chain would be worth the trouble of getting up and picking the daisies, when suddenly a White Rabbit with pink eyes ran close by her."
        ]
       ],
       "shape": {
        "columns": 2,
        "rows": 5
       }
      },
      "text/html": [
       "<div>\n",
       "<style scoped>\n",
       "    .dataframe tbody tr th:only-of-type {\n",
       "        vertical-align: middle;\n",
       "    }\n",
       "\n",
       "    .dataframe tbody tr th {\n",
       "        vertical-align: top;\n",
       "    }\n",
       "\n",
       "    .dataframe thead th {\n",
       "        text-align: right;\n",
       "    }\n",
       "</style>\n",
       "<table border=\"1\" class=\"dataframe\">\n",
       "  <thead>\n",
       "    <tr style=\"text-align: right;\">\n",
       "      <th></th>\n",
       "      <th>src</th>\n",
       "      <th>tgt</th>\n",
       "    </tr>\n",
       "  </thead>\n",
       "  <tbody>\n",
       "    <tr>\n",
       "      <th>0</th>\n",
       "      <td>La aventuroj de Alicio en Mirlando</td>\n",
       "      <td>ALICE'S ADVENTURES IN WONDERLAND</td>\n",
       "    </tr>\n",
       "    <tr>\n",
       "      <th>1</th>\n",
       "      <td>LEWIS CARROLL</td>\n",
       "      <td>Lewis Carroll</td>\n",
       "    </tr>\n",
       "    <tr>\n",
       "      <th>2</th>\n",
       "      <td>ĈAPITRO I Mirinda Falego!</td>\n",
       "      <td>CHAPTER I Down the Rabbit-Hole</td>\n",
       "    </tr>\n",
       "    <tr>\n",
       "      <th>3</th>\n",
       "      <td>Alicio, jam longan tempon sidinte apud sia fra...</td>\n",
       "      <td>Alice was beginning to get very tired of sitti...</td>\n",
       "    </tr>\n",
       "    <tr>\n",
       "      <th>4</th>\n",
       "      <td>Ŝi do ekpripensis—ne tre vigle ĉar la tago est...</td>\n",
       "      <td>So she was considering in her own mind (as wel...</td>\n",
       "    </tr>\n",
       "  </tbody>\n",
       "</table>\n",
       "</div>"
      ],
      "text/plain": [
       "                                                 src  \\\n",
       "0                 La aventuroj de Alicio en Mirlando   \n",
       "1                                      LEWIS CARROLL   \n",
       "2                          ĈAPITRO I Mirinda Falego!   \n",
       "3  Alicio, jam longan tempon sidinte apud sia fra...   \n",
       "4  Ŝi do ekpripensis—ne tre vigle ĉar la tago est...   \n",
       "\n",
       "                                                 tgt  \n",
       "0                   ALICE'S ADVENTURES IN WONDERLAND  \n",
       "1                                      Lewis Carroll  \n",
       "2                     CHAPTER I Down the Rabbit-Hole  \n",
       "3  Alice was beginning to get very tired of sitti...  \n",
       "4  So she was considering in her own mind (as wel...  "
      ]
     },
     "execution_count": 36,
     "metadata": {},
     "output_type": "execute_result"
    }
   ],
   "source": [
    "df.head(5)"
   ]
  },
  {
   "cell_type": "code",
   "execution_count": 37,
   "metadata": {},
   "outputs": [
    {
     "name": "stdout",
     "output_type": "stream",
     "text": [
      "Index(['src', 'tgt'], dtype='object')\n"
     ]
    }
   ],
   "source": [
    "print(df.columns)  # Check the actual column names\n"
   ]
  },
  {
   "cell_type": "code",
   "execution_count": 38,
   "metadata": {},
   "outputs": [
    {
     "name": "stdout",
     "output_type": "stream",
     "text": [
      "                                                 src  \\\n",
      "0                 La aventuroj de Alicio en Mirlando   \n",
      "1                                      LEWIS CARROLL   \n",
      "2                          ĈAPITRO I Mirinda Falego!   \n",
      "3  Alicio, jam longan tempon sidinte apud sia fra...   \n",
      "4  Ŝi do ekpripensis—ne tre vigle ĉar la tago est...   \n",
      "\n",
      "                                                 tgt  \n",
      "0                   ALICE'S ADVENTURES IN WONDERLAND  \n",
      "1                                      Lewis Carroll  \n",
      "2                     CHAPTER I Down the Rabbit-Hole  \n",
      "3  Alice was beginning to get very tired of sitti...  \n",
      "4  So she was considering in her own mind (as wel...  \n"
     ]
    }
   ],
   "source": [
    "print(df.head())  # Preview the first few rows\n"
   ]
  },
  {
   "cell_type": "code",
   "execution_count": 43,
   "metadata": {},
   "outputs": [
    {
     "name": "stdout",
     "output_type": "stream",
     "text": [
      "Original dataset size: 462222\n",
      "Filtered dataset size: 82468\n",
      "                                                  src  \\\n",
      "3   Alicio, jam longan tempon sidinte apud sia fra...   \n",
      "6   (Kiam poste ŝi pripensadis la aferon, ŝajnis a...   \n",
      "11  Sed jen por ŝi granda ĉagreno; ĉar, enrigardan...   \n",
      "19  (Alicio jam antaŭe lernis en la lernĉambro kel...   \n",
      "30  \"Mi esperas ke ĉe la temanĝo oni ne forgesos ŝ...   \n",
      "\n",
      "                                                  tgt  \n",
      "3   Alice was beginning to get very tired of sitti...  \n",
      "6   Oh dear! I shall be late!' (when she thought i...  \n",
      "11  She took down a jar from one of the shelves as...  \n",
      "19  (for, you see, Alice had learnt several things...  \n",
      "30  'I hope they'll remember her saucer of milk at...  \n"
     ]
    }
   ],
   "source": [
    "import pandas as pd\n",
    "\n",
    "# Sample list of food-related keywords (expand as needed)\n",
    "food_keywords = [\n",
    "    \"butter\", \"sugar\", \"milk\", \"flour\", \"egg\", \"cheese\", \"meat\", \"chicken\", \"fish\",\n",
    "    \"fruit\", \"vegetable\", \"carrot\", \"apple\", \"banana\", \"salt\", \"pepper\", \"oil\", \"garlic\",\n",
    "    \"tomato\", \"onion\", \"potato\", \"spinach\", \"lettuce\", \"broccoli\", \"beef\", \"pork\", \"lamb\",\n",
    "    \"turkey\", \"sausage\", \"bacon\", \"rice\", \"pasta\", \"bread\", \"cereal\", \"yogurt\", \"honey\", \n",
    "    \"chocolate\", \"vanilla\", \"lemon\", \"lime\", \"orange\", \"strawberry\", \"blueberry\", \"raspberry\",\n",
    "    \"pineapple\", \"watermelon\", \"mango\", \"peach\", \"plum\", \"grape\", \"cucumber\", \"zucchini\",\n",
    "    \"cauliflower\", \"pumpkin\", \"beans\", \"lentils\", \"soy\", \"tofu\", \"almond\", \"walnut\", \"cashew\",\n",
    "    \"hazelnut\", \"pistachio\", \"peanut\", \"olive\", \"coconut\", \"avocado\", \"ginger\", \"turmeric\",\n",
    "    \"cinnamon\", \"nutmeg\", \"clove\", \"cardamom\", \"paprika\", \"chili\", \"oregano\", \"basil\", \"thyme\",\n",
    "    \"rosemary\", \"parsley\", \"cilantro\", \"mint\", \"sage\", \"dill\", \"bay leaf\", \"chives\", \"tarragon\",\n",
    "    \"salmon\", \"tuna\", \"cod\", \"eggplant\", \"mushrooms\", \"soy sauce\", \"vinegar\", \"mustard\", \"tomato paste\",\n",
    "    \"coconut milk\", \"coconut cream\", \"fish sauce\", \"sesame oil\", \"sriracha\", \"wasabi\", \"miso\",\n",
    "    \"sour cream\", \"cream cheese\", \"cream\", \"heavy cream\", \"ricotta\", \"mozzarella\", \"cheddar\",\n",
    "    \"parmesan\", \"feta\", \"pecans\", \"macadamia\", \"pine nuts\", \"poppy seeds\", \"chia seeds\", \"sunflower seeds\",\n",
    "    \"sesame seeds\", \"pumpkin seeds\", \"barley\", \"quinoa\", \"oats\", \"corn\", \"cornstarch\", \"molasses\",\n",
    "    \"agave\", \"maple syrup\", \"corn syrup\", \"beet sugar\", \"raisins\", \"dates\", \"figs\", \"apricot\", \"plum\",\n",
    "    \"sultanas\", \"toffee\", \"marzipan\", \"nougat\", \"custard\", \"pudding\", \"ice cream\", \"whipped cream\",\n",
    "    \"coffee\", \"tea\", \"cocoa powder\", \"espresso\", \"balsamic vinegar\", \"apple cider vinegar\", \"rice vinegar\",\n",
    "    \"white vinegar\", \"sherry vinegar\", \"distilled vinegar\", \"wine\", \"red wine\", \"white wine\", \"rum\",\n",
    "    \"vodka\", \"tequila\", \"whiskey\", \"gin\", \"brandy\", \"beer\", \"lemonade\", \"fruit juice\", \"lime juice\",\n",
    "    \"orange juice\", \"pomegranate juice\", \"cranberry juice\", \"water\", \"sparkling water\", \"soda\", \"tonic water\"\n",
    "]\n",
    "\n",
    "\n",
    "\n",
    "# Load your dataset (assuming it's a Pandas DataFrame)\n",
    "# df = pd.read_csv(\"your_dataset.csv\")  # Uncomment if loading from a CSV\n",
    "\n",
    "# Convert to lowercase and filter for food-related terms\n",
    "df_filtered = df[df.apply(\n",
    "    lambda row: any(word in row['src'].lower() or word in row['tgt'].lower() for word in food_keywords), axis=1\n",
    ")]\n",
    "\n",
    "# Save the filtered dataset\n",
    "#df_filtered.to_csv(\"filtered_ingredients_translations.csv\", index=False)\n",
    "\n",
    "# Display some results\n",
    "print(f\"Original dataset size: {len(df)}\")\n",
    "print(f\"Filtered dataset size: {len(df_filtered)}\")\n",
    "print(df_filtered.head())\n"
   ]
  },
  {
   "cell_type": "code",
   "execution_count": 45,
   "metadata": {},
   "outputs": [
    {
     "data": {
      "application/vnd.microsoft.datawrangler.viewer.v0+json": {
       "columns": [
        {
         "name": "index",
         "rawType": "int64",
         "type": "integer"
        },
        {
         "name": "src",
         "rawType": "object",
         "type": "string"
        },
        {
         "name": "tgt",
         "rawType": "object",
         "type": "string"
        }
       ],
       "conversionMethod": "pd.DataFrame",
       "ref": "0c6db13b-d1e5-42ec-b38b-2e7d8f0c0a34",
       "rows": [
        [
         "3",
         "Alicio, jam longan tempon sidinte apud sia fratino sur la deklivo, tre enuiĝis pro senokupo. Unu, du foje ŝi prove rigardis en la libron kiun la fratino legas, sed povis vidi en ĝi nek desegnojn nek konversaciojn, kaj \"por kio utilas libro,\" pensis ŝi, \"enhavanta nek desegnojn nek konversaciojn?\"",
         "Alice was beginning to get very tired of sitting by her sister on the bank, and of having nothing to do: once or twice she had peeped into the book her sister was reading, but it had no pictures or conversations in it, 'and what is the use of a book,' thought Alice 'without pictures or conversation?'"
        ],
        [
         "6",
         "(Kiam poste ŝi pripensadis la aferon, ŝajnis al ŝi, ke tio estis efektive mirinda, sed en la momento mem, ĝi ŝajnis al ŝi tute ordinara.) Tamen, kiam la kuniklo el sia veŝta poŝo eligis poŝhorloĝon, kaj, rigardinte ĝin, tuj plirapidis, Alicio eksaltis sur la piedojn, ĉar subite frapis ŝin la ideo, ke neniam antaŭe ŝi vidis kuniklon kiu havas veŝtpoŝon kaj poŝhorloĝon.",
         "Oh dear! I shall be late!' (when she thought it over afterwards, it occurred to her that she ought to have wondered at this, but at the time it all seemed quite natural); but when the Rabbit actually took a watch out of its waistcoat-pocket, and looked at it, and then hurried on, Alice started to her feet, for it flashed across her mind that she had never before seen a rabbit with either a waistcoat-pocket, or a watch to take out of it, and burning with curiosity, she ran across the field after it, and fortunately was just in time to see it pop down a large rabbit-hole under the hedge."
        ],
        [
         "11",
         "Sed jen por ŝi granda ĉagreno; ĉar, enrigardante, la avidaj okuloj vidis—nur blankan malplenon! Ŝi ne volis lasi fali la fajencaĵon, pro la timo mortigi per ĝi iun subulon, sed sukcesis post kelkaj momentoj remeti ĝin, preterpasante, en ŝrankon.",
         "She took down a jar from one of the shelves as she passed; it was labelled 'ORANGE MARMALADE', but to her great disappointment it was empty: she did not like to drop the jar for fear of killing somebody, so managed to put it into one of the cupboards as she fell past it."
        ],
        [
         "19",
         "(Alicio jam antaŭe lernis en la lernĉambro kelkajn tiuspecajn faktojn, kaj kvankam la nuna tempo ne estis—pro manko da aŭskultantoj—oportuna por elmontri sian klerecon, tamen estis por ŝi bona praktiko tradiri la faktojn.) \"Jes, tio estas certe la ĝusta interspaco, sed en kian latitudon aŭ longitudon mi penetris?\"",
         "(for, you see, Alice had learnt several things of this sort in her lessons in the schoolroom, and though this was not a very good opportunity for showing off her knowledge, as there was no one to listen to her, still it was good practice to say it over) '--yes, that's about the right distance--but then I wonder what Latitude or Longitude I've got to?'"
        ],
        [
         "30",
         "\"Mi esperas ke ĉe la temanĝo oni ne forgesos ŝian subtason da lakto.",
         "'I hope they'll remember her saucer of milk at tea-time."
        ]
       ],
       "shape": {
        "columns": 2,
        "rows": 5
       }
      },
      "text/html": [
       "<div>\n",
       "<style scoped>\n",
       "    .dataframe tbody tr th:only-of-type {\n",
       "        vertical-align: middle;\n",
       "    }\n",
       "\n",
       "    .dataframe tbody tr th {\n",
       "        vertical-align: top;\n",
       "    }\n",
       "\n",
       "    .dataframe thead th {\n",
       "        text-align: right;\n",
       "    }\n",
       "</style>\n",
       "<table border=\"1\" class=\"dataframe\">\n",
       "  <thead>\n",
       "    <tr style=\"text-align: right;\">\n",
       "      <th></th>\n",
       "      <th>src</th>\n",
       "      <th>tgt</th>\n",
       "    </tr>\n",
       "  </thead>\n",
       "  <tbody>\n",
       "    <tr>\n",
       "      <th>3</th>\n",
       "      <td>Alicio, jam longan tempon sidinte apud sia fra...</td>\n",
       "      <td>Alice was beginning to get very tired of sitti...</td>\n",
       "    </tr>\n",
       "    <tr>\n",
       "      <th>6</th>\n",
       "      <td>(Kiam poste ŝi pripensadis la aferon, ŝajnis a...</td>\n",
       "      <td>Oh dear! I shall be late!' (when she thought i...</td>\n",
       "    </tr>\n",
       "    <tr>\n",
       "      <th>11</th>\n",
       "      <td>Sed jen por ŝi granda ĉagreno; ĉar, enrigardan...</td>\n",
       "      <td>She took down a jar from one of the shelves as...</td>\n",
       "    </tr>\n",
       "    <tr>\n",
       "      <th>19</th>\n",
       "      <td>(Alicio jam antaŭe lernis en la lernĉambro kel...</td>\n",
       "      <td>(for, you see, Alice had learnt several things...</td>\n",
       "    </tr>\n",
       "    <tr>\n",
       "      <th>30</th>\n",
       "      <td>\"Mi esperas ke ĉe la temanĝo oni ne forgesos ŝ...</td>\n",
       "      <td>'I hope they'll remember her saucer of milk at...</td>\n",
       "    </tr>\n",
       "  </tbody>\n",
       "</table>\n",
       "</div>"
      ],
      "text/plain": [
       "                                                  src  \\\n",
       "3   Alicio, jam longan tempon sidinte apud sia fra...   \n",
       "6   (Kiam poste ŝi pripensadis la aferon, ŝajnis a...   \n",
       "11  Sed jen por ŝi granda ĉagreno; ĉar, enrigardan...   \n",
       "19  (Alicio jam antaŭe lernis en la lernĉambro kel...   \n",
       "30  \"Mi esperas ke ĉe la temanĝo oni ne forgesos ŝ...   \n",
       "\n",
       "                                                  tgt  \n",
       "3   Alice was beginning to get very tired of sitti...  \n",
       "6   Oh dear! I shall be late!' (when she thought i...  \n",
       "11  She took down a jar from one of the shelves as...  \n",
       "19  (for, you see, Alice had learnt several things...  \n",
       "30  'I hope they'll remember her saucer of milk at...  "
      ]
     },
     "execution_count": 45,
     "metadata": {},
     "output_type": "execute_result"
    }
   ],
   "source": [
    "df_filtered.head()"
   ]
  },
  {
   "cell_type": "code",
   "execution_count": 46,
   "metadata": {},
   "outputs": [
    {
     "data": {
      "text/plain": [
       "src    0\n",
       "tgt    0\n",
       "dtype: int64"
      ]
     },
     "execution_count": 46,
     "metadata": {},
     "output_type": "execute_result"
    }
   ],
   "source": [
    "df_filtered.isnull().sum()"
   ]
  },
  {
   "cell_type": "code",
   "execution_count": 48,
   "metadata": {},
   "outputs": [],
   "source": [
    "\n",
    "def preprocess(text):\n",
    "  text=''.join([char for char in text if char not in string.punctuation])\n",
    "  text=text.lower()\n",
    "  word_tokenize = text.split()\n",
    "  stop_words = stopwords.words('english')\n",
    "  clean_words = ' '.join([word for word in word_tokenize if word not in stopwords.words('english')])\n",
    "  return clean_words"
   ]
  },
  {
   "cell_type": "code",
   "execution_count": 49,
   "metadata": {},
   "outputs": [
    {
     "name": "stderr",
     "output_type": "stream",
     "text": [
      "C:\\Users\\johnk\\AppData\\Local\\Temp\\ipykernel_3388\\630557466.py:1: SettingWithCopyWarning: \n",
      "A value is trying to be set on a copy of a slice from a DataFrame.\n",
      "Try using .loc[row_indexer,col_indexer] = value instead\n",
      "\n",
      "See the caveats in the documentation: https://pandas.pydata.org/pandas-docs/stable/user_guide/indexing.html#returning-a-view-versus-a-copy\n",
      "  df_filtered['clean_src'] = df_filtered['src'].apply(preprocess)\n"
     ]
    },
    {
     "data": {
      "application/vnd.microsoft.datawrangler.viewer.v0+json": {
       "columns": [
        {
         "name": "index",
         "rawType": "int64",
         "type": "integer"
        },
        {
         "name": "src",
         "rawType": "object",
         "type": "string"
        },
        {
         "name": "tgt",
         "rawType": "object",
         "type": "string"
        },
        {
         "name": "clean_src",
         "rawType": "object",
         "type": "string"
        }
       ],
       "conversionMethod": "pd.DataFrame",
       "ref": "e573cdd9-695f-4c9f-a1d9-f898af2dd583",
       "rows": [
        [
         "3",
         "Alicio, jam longan tempon sidinte apud sia fratino sur la deklivo, tre enuiĝis pro senokupo. Unu, du foje ŝi prove rigardis en la libron kiun la fratino legas, sed povis vidi en ĝi nek desegnojn nek konversaciojn, kaj \"por kio utilas libro,\" pensis ŝi, \"enhavanta nek desegnojn nek konversaciojn?\"",
         "Alice was beginning to get very tired of sitting by her sister on the bank, and of having nothing to do: once or twice she had peeped into the book her sister was reading, but it had no pictures or conversations in it, 'and what is the use of a book,' thought Alice 'without pictures or conversation?'",
         "alicio jam longan tempon sidinte apud sia fratino sur la deklivo tre enuiĝis pro senokupo unu du foje ŝi prove rigardis en la libron kiun la fratino legas sed povis vidi en ĝi nek desegnojn nek konversaciojn kaj por kio utilas libro pensis ŝi enhavanta nek desegnojn nek konversaciojn"
        ],
        [
         "6",
         "(Kiam poste ŝi pripensadis la aferon, ŝajnis al ŝi, ke tio estis efektive mirinda, sed en la momento mem, ĝi ŝajnis al ŝi tute ordinara.) Tamen, kiam la kuniklo el sia veŝta poŝo eligis poŝhorloĝon, kaj, rigardinte ĝin, tuj plirapidis, Alicio eksaltis sur la piedojn, ĉar subite frapis ŝin la ideo, ke neniam antaŭe ŝi vidis kuniklon kiu havas veŝtpoŝon kaj poŝhorloĝon.",
         "Oh dear! I shall be late!' (when she thought it over afterwards, it occurred to her that she ought to have wondered at this, but at the time it all seemed quite natural); but when the Rabbit actually took a watch out of its waistcoat-pocket, and looked at it, and then hurried on, Alice started to her feet, for it flashed across her mind that she had never before seen a rabbit with either a waistcoat-pocket, or a watch to take out of it, and burning with curiosity, she ran across the field after it, and fortunately was just in time to see it pop down a large rabbit-hole under the hedge.",
         "kiam poste ŝi pripensadis la aferon ŝajnis al ŝi ke tio estis efektive mirinda sed en la momento mem ĝi ŝajnis al ŝi tute ordinara tamen kiam la kuniklo el sia veŝta poŝo eligis poŝhorloĝon kaj rigardinte ĝin tuj plirapidis alicio eksaltis sur la piedojn ĉar subite frapis ŝin la ideo ke neniam antaŭe ŝi vidis kuniklon kiu havas veŝtpoŝon kaj poŝhorloĝon"
        ],
        [
         "11",
         "Sed jen por ŝi granda ĉagreno; ĉar, enrigardante, la avidaj okuloj vidis—nur blankan malplenon! Ŝi ne volis lasi fali la fajencaĵon, pro la timo mortigi per ĝi iun subulon, sed sukcesis post kelkaj momentoj remeti ĝin, preterpasante, en ŝrankon.",
         "She took down a jar from one of the shelves as she passed; it was labelled 'ORANGE MARMALADE', but to her great disappointment it was empty: she did not like to drop the jar for fear of killing somebody, so managed to put it into one of the cupboards as she fell past it.",
         "sed jen por ŝi granda ĉagreno ĉar enrigardante la avidaj okuloj vidis—nur blankan malplenon ŝi ne volis lasi fali la fajencaĵon pro la timo mortigi per ĝi iun subulon sed sukcesis post kelkaj momentoj remeti ĝin preterpasante en ŝrankon"
        ],
        [
         "19",
         "(Alicio jam antaŭe lernis en la lernĉambro kelkajn tiuspecajn faktojn, kaj kvankam la nuna tempo ne estis—pro manko da aŭskultantoj—oportuna por elmontri sian klerecon, tamen estis por ŝi bona praktiko tradiri la faktojn.) \"Jes, tio estas certe la ĝusta interspaco, sed en kian latitudon aŭ longitudon mi penetris?\"",
         "(for, you see, Alice had learnt several things of this sort in her lessons in the schoolroom, and though this was not a very good opportunity for showing off her knowledge, as there was no one to listen to her, still it was good practice to say it over) '--yes, that's about the right distance--but then I wonder what Latitude or Longitude I've got to?'",
         "alicio jam antaŭe lernis en la lernĉambro kelkajn tiuspecajn faktojn kaj kvankam la nuna tempo ne estis—pro manko da aŭskultantoj—oportuna por elmontri sian klerecon tamen estis por ŝi bona praktiko tradiri la faktojn jes tio estas certe la ĝusta interspaco sed en kian latitudon aŭ longitudon mi penetris"
        ],
        [
         "30",
         "\"Mi esperas ke ĉe la temanĝo oni ne forgesos ŝian subtason da lakto.",
         "'I hope they'll remember her saucer of milk at tea-time.",
         "mi esperas ke ĉe la temanĝo oni ne forgesos ŝian subtason da lakto"
        ]
       ],
       "shape": {
        "columns": 3,
        "rows": 5
       }
      },
      "text/html": [
       "<div>\n",
       "<style scoped>\n",
       "    .dataframe tbody tr th:only-of-type {\n",
       "        vertical-align: middle;\n",
       "    }\n",
       "\n",
       "    .dataframe tbody tr th {\n",
       "        vertical-align: top;\n",
       "    }\n",
       "\n",
       "    .dataframe thead th {\n",
       "        text-align: right;\n",
       "    }\n",
       "</style>\n",
       "<table border=\"1\" class=\"dataframe\">\n",
       "  <thead>\n",
       "    <tr style=\"text-align: right;\">\n",
       "      <th></th>\n",
       "      <th>src</th>\n",
       "      <th>tgt</th>\n",
       "      <th>clean_src</th>\n",
       "    </tr>\n",
       "  </thead>\n",
       "  <tbody>\n",
       "    <tr>\n",
       "      <th>3</th>\n",
       "      <td>Alicio, jam longan tempon sidinte apud sia fra...</td>\n",
       "      <td>Alice was beginning to get very tired of sitti...</td>\n",
       "      <td>alicio jam longan tempon sidinte apud sia frat...</td>\n",
       "    </tr>\n",
       "    <tr>\n",
       "      <th>6</th>\n",
       "      <td>(Kiam poste ŝi pripensadis la aferon, ŝajnis a...</td>\n",
       "      <td>Oh dear! I shall be late!' (when she thought i...</td>\n",
       "      <td>kiam poste ŝi pripensadis la aferon ŝajnis al ...</td>\n",
       "    </tr>\n",
       "    <tr>\n",
       "      <th>11</th>\n",
       "      <td>Sed jen por ŝi granda ĉagreno; ĉar, enrigardan...</td>\n",
       "      <td>She took down a jar from one of the shelves as...</td>\n",
       "      <td>sed jen por ŝi granda ĉagreno ĉar enrigardante...</td>\n",
       "    </tr>\n",
       "    <tr>\n",
       "      <th>19</th>\n",
       "      <td>(Alicio jam antaŭe lernis en la lernĉambro kel...</td>\n",
       "      <td>(for, you see, Alice had learnt several things...</td>\n",
       "      <td>alicio jam antaŭe lernis en la lernĉambro kelk...</td>\n",
       "    </tr>\n",
       "    <tr>\n",
       "      <th>30</th>\n",
       "      <td>\"Mi esperas ke ĉe la temanĝo oni ne forgesos ŝ...</td>\n",
       "      <td>'I hope they'll remember her saucer of milk at...</td>\n",
       "      <td>mi esperas ke ĉe la temanĝo oni ne forgesos ŝi...</td>\n",
       "    </tr>\n",
       "  </tbody>\n",
       "</table>\n",
       "</div>"
      ],
      "text/plain": [
       "                                                  src  \\\n",
       "3   Alicio, jam longan tempon sidinte apud sia fra...   \n",
       "6   (Kiam poste ŝi pripensadis la aferon, ŝajnis a...   \n",
       "11  Sed jen por ŝi granda ĉagreno; ĉar, enrigardan...   \n",
       "19  (Alicio jam antaŭe lernis en la lernĉambro kel...   \n",
       "30  \"Mi esperas ke ĉe la temanĝo oni ne forgesos ŝ...   \n",
       "\n",
       "                                                  tgt  \\\n",
       "3   Alice was beginning to get very tired of sitti...   \n",
       "6   Oh dear! I shall be late!' (when she thought i...   \n",
       "11  She took down a jar from one of the shelves as...   \n",
       "19  (for, you see, Alice had learnt several things...   \n",
       "30  'I hope they'll remember her saucer of milk at...   \n",
       "\n",
       "                                            clean_src  \n",
       "3   alicio jam longan tempon sidinte apud sia frat...  \n",
       "6   kiam poste ŝi pripensadis la aferon ŝajnis al ...  \n",
       "11  sed jen por ŝi granda ĉagreno ĉar enrigardante...  \n",
       "19  alicio jam antaŭe lernis en la lernĉambro kelk...  \n",
       "30  mi esperas ke ĉe la temanĝo oni ne forgesos ŝi...  "
      ]
     },
     "execution_count": 49,
     "metadata": {},
     "output_type": "execute_result"
    }
   ],
   "source": [
    "\n",
    "df_filtered['clean_src'] = df_filtered['src'].apply(preprocess)\n",
    "df_filtered.head()"
   ]
  },
  {
   "cell_type": "code",
   "execution_count": 50,
   "metadata": {},
   "outputs": [],
   "source": [
    "df_filtered = df_filtered.copy()"
   ]
  },
  {
   "cell_type": "code",
   "execution_count": 51,
   "metadata": {},
   "outputs": [
    {
     "data": {
      "application/vnd.microsoft.datawrangler.viewer.v0+json": {
       "columns": [
        {
         "name": "index",
         "rawType": "int64",
         "type": "integer"
        },
        {
         "name": "src",
         "rawType": "object",
         "type": "string"
        },
        {
         "name": "tgt",
         "rawType": "object",
         "type": "string"
        },
        {
         "name": "clean_src",
         "rawType": "object",
         "type": "string"
        },
        {
         "name": "clean_tgt",
         "rawType": "object",
         "type": "string"
        }
       ],
       "conversionMethod": "pd.DataFrame",
       "ref": "6b3b1507-d1e4-494f-88b7-c4c4ef1614cc",
       "rows": [
        [
         "3",
         "Alicio, jam longan tempon sidinte apud sia fratino sur la deklivo, tre enuiĝis pro senokupo. Unu, du foje ŝi prove rigardis en la libron kiun la fratino legas, sed povis vidi en ĝi nek desegnojn nek konversaciojn, kaj \"por kio utilas libro,\" pensis ŝi, \"enhavanta nek desegnojn nek konversaciojn?\"",
         "Alice was beginning to get very tired of sitting by her sister on the bank, and of having nothing to do: once or twice she had peeped into the book her sister was reading, but it had no pictures or conversations in it, 'and what is the use of a book,' thought Alice 'without pictures or conversation?'",
         "alicio jam longan tempon sidinte apud sia fratino sur la deklivo tre enuiĝis pro senokupo unu du foje ŝi prove rigardis en la libron kiun la fratino legas sed povis vidi en ĝi nek desegnojn nek konversaciojn kaj por kio utilas libro pensis ŝi enhavanta nek desegnojn nek konversaciojn",
         "alice beginning get tired sitting sister bank nothing twice peeped book sister reading pictures conversations use book thought alice without pictures conversation"
        ],
        [
         "6",
         "(Kiam poste ŝi pripensadis la aferon, ŝajnis al ŝi, ke tio estis efektive mirinda, sed en la momento mem, ĝi ŝajnis al ŝi tute ordinara.) Tamen, kiam la kuniklo el sia veŝta poŝo eligis poŝhorloĝon, kaj, rigardinte ĝin, tuj plirapidis, Alicio eksaltis sur la piedojn, ĉar subite frapis ŝin la ideo, ke neniam antaŭe ŝi vidis kuniklon kiu havas veŝtpoŝon kaj poŝhorloĝon.",
         "Oh dear! I shall be late!' (when she thought it over afterwards, it occurred to her that she ought to have wondered at this, but at the time it all seemed quite natural); but when the Rabbit actually took a watch out of its waistcoat-pocket, and looked at it, and then hurried on, Alice started to her feet, for it flashed across her mind that she had never before seen a rabbit with either a waistcoat-pocket, or a watch to take out of it, and burning with curiosity, she ran across the field after it, and fortunately was just in time to see it pop down a large rabbit-hole under the hedge.",
         "kiam poste ŝi pripensadis la aferon ŝajnis al ŝi ke tio estis efektive mirinda sed en la momento mem ĝi ŝajnis al ŝi tute ordinara tamen kiam la kuniklo el sia veŝta poŝo eligis poŝhorloĝon kaj rigardinte ĝin tuj plirapidis alicio eksaltis sur la piedojn ĉar subite frapis ŝin la ideo ke neniam antaŭe ŝi vidis kuniklon kiu havas veŝtpoŝon kaj poŝhorloĝon",
         "oh dear shall late thought afterwards occurred ought wondered time seemed quite natural rabbit actually took watch waistcoatpocket looked hurried alice started feet flashed across mind never seen rabbit either waistcoatpocket watch take burning curiosity ran across field fortunately time see pop large rabbithole hedge"
        ],
        [
         "11",
         "Sed jen por ŝi granda ĉagreno; ĉar, enrigardante, la avidaj okuloj vidis—nur blankan malplenon! Ŝi ne volis lasi fali la fajencaĵon, pro la timo mortigi per ĝi iun subulon, sed sukcesis post kelkaj momentoj remeti ĝin, preterpasante, en ŝrankon.",
         "She took down a jar from one of the shelves as she passed; it was labelled 'ORANGE MARMALADE', but to her great disappointment it was empty: she did not like to drop the jar for fear of killing somebody, so managed to put it into one of the cupboards as she fell past it.",
         "sed jen por ŝi granda ĉagreno ĉar enrigardante la avidaj okuloj vidis—nur blankan malplenon ŝi ne volis lasi fali la fajencaĵon pro la timo mortigi per ĝi iun subulon sed sukcesis post kelkaj momentoj remeti ĝin preterpasante en ŝrankon",
         "took jar one shelves passed labelled orange marmalade great disappointment empty like drop jar fear killing somebody managed put one cupboards fell past"
        ],
        [
         "19",
         "(Alicio jam antaŭe lernis en la lernĉambro kelkajn tiuspecajn faktojn, kaj kvankam la nuna tempo ne estis—pro manko da aŭskultantoj—oportuna por elmontri sian klerecon, tamen estis por ŝi bona praktiko tradiri la faktojn.) \"Jes, tio estas certe la ĝusta interspaco, sed en kian latitudon aŭ longitudon mi penetris?\"",
         "(for, you see, Alice had learnt several things of this sort in her lessons in the schoolroom, and though this was not a very good opportunity for showing off her knowledge, as there was no one to listen to her, still it was good practice to say it over) '--yes, that's about the right distance--but then I wonder what Latitude or Longitude I've got to?'",
         "alicio jam antaŭe lernis en la lernĉambro kelkajn tiuspecajn faktojn kaj kvankam la nuna tempo ne estis—pro manko da aŭskultantoj—oportuna por elmontri sian klerecon tamen estis por ŝi bona praktiko tradiri la faktojn jes tio estas certe la ĝusta interspaco sed en kian latitudon aŭ longitudon mi penetris",
         "see alice learnt several things sort lessons schoolroom though good opportunity showing knowledge one listen still good practice say yes thats right distancebut wonder latitude longitude ive got"
        ],
        [
         "30",
         "\"Mi esperas ke ĉe la temanĝo oni ne forgesos ŝian subtason da lakto.",
         "'I hope they'll remember her saucer of milk at tea-time.",
         "mi esperas ke ĉe la temanĝo oni ne forgesos ŝian subtason da lakto",
         "hope theyll remember saucer milk teatime"
        ]
       ],
       "shape": {
        "columns": 4,
        "rows": 5
       }
      },
      "text/html": [
       "<div>\n",
       "<style scoped>\n",
       "    .dataframe tbody tr th:only-of-type {\n",
       "        vertical-align: middle;\n",
       "    }\n",
       "\n",
       "    .dataframe tbody tr th {\n",
       "        vertical-align: top;\n",
       "    }\n",
       "\n",
       "    .dataframe thead th {\n",
       "        text-align: right;\n",
       "    }\n",
       "</style>\n",
       "<table border=\"1\" class=\"dataframe\">\n",
       "  <thead>\n",
       "    <tr style=\"text-align: right;\">\n",
       "      <th></th>\n",
       "      <th>src</th>\n",
       "      <th>tgt</th>\n",
       "      <th>clean_src</th>\n",
       "      <th>clean_tgt</th>\n",
       "    </tr>\n",
       "  </thead>\n",
       "  <tbody>\n",
       "    <tr>\n",
       "      <th>3</th>\n",
       "      <td>Alicio, jam longan tempon sidinte apud sia fra...</td>\n",
       "      <td>Alice was beginning to get very tired of sitti...</td>\n",
       "      <td>alicio jam longan tempon sidinte apud sia frat...</td>\n",
       "      <td>alice beginning get tired sitting sister bank ...</td>\n",
       "    </tr>\n",
       "    <tr>\n",
       "      <th>6</th>\n",
       "      <td>(Kiam poste ŝi pripensadis la aferon, ŝajnis a...</td>\n",
       "      <td>Oh dear! I shall be late!' (when she thought i...</td>\n",
       "      <td>kiam poste ŝi pripensadis la aferon ŝajnis al ...</td>\n",
       "      <td>oh dear shall late thought afterwards occurred...</td>\n",
       "    </tr>\n",
       "    <tr>\n",
       "      <th>11</th>\n",
       "      <td>Sed jen por ŝi granda ĉagreno; ĉar, enrigardan...</td>\n",
       "      <td>She took down a jar from one of the shelves as...</td>\n",
       "      <td>sed jen por ŝi granda ĉagreno ĉar enrigardante...</td>\n",
       "      <td>took jar one shelves passed labelled orange ma...</td>\n",
       "    </tr>\n",
       "    <tr>\n",
       "      <th>19</th>\n",
       "      <td>(Alicio jam antaŭe lernis en la lernĉambro kel...</td>\n",
       "      <td>(for, you see, Alice had learnt several things...</td>\n",
       "      <td>alicio jam antaŭe lernis en la lernĉambro kelk...</td>\n",
       "      <td>see alice learnt several things sort lessons s...</td>\n",
       "    </tr>\n",
       "    <tr>\n",
       "      <th>30</th>\n",
       "      <td>\"Mi esperas ke ĉe la temanĝo oni ne forgesos ŝ...</td>\n",
       "      <td>'I hope they'll remember her saucer of milk at...</td>\n",
       "      <td>mi esperas ke ĉe la temanĝo oni ne forgesos ŝi...</td>\n",
       "      <td>hope theyll remember saucer milk teatime</td>\n",
       "    </tr>\n",
       "  </tbody>\n",
       "</table>\n",
       "</div>"
      ],
      "text/plain": [
       "                                                  src  \\\n",
       "3   Alicio, jam longan tempon sidinte apud sia fra...   \n",
       "6   (Kiam poste ŝi pripensadis la aferon, ŝajnis a...   \n",
       "11  Sed jen por ŝi granda ĉagreno; ĉar, enrigardan...   \n",
       "19  (Alicio jam antaŭe lernis en la lernĉambro kel...   \n",
       "30  \"Mi esperas ke ĉe la temanĝo oni ne forgesos ŝ...   \n",
       "\n",
       "                                                  tgt  \\\n",
       "3   Alice was beginning to get very tired of sitti...   \n",
       "6   Oh dear! I shall be late!' (when she thought i...   \n",
       "11  She took down a jar from one of the shelves as...   \n",
       "19  (for, you see, Alice had learnt several things...   \n",
       "30  'I hope they'll remember her saucer of milk at...   \n",
       "\n",
       "                                            clean_src  \\\n",
       "3   alicio jam longan tempon sidinte apud sia frat...   \n",
       "6   kiam poste ŝi pripensadis la aferon ŝajnis al ...   \n",
       "11  sed jen por ŝi granda ĉagreno ĉar enrigardante...   \n",
       "19  alicio jam antaŭe lernis en la lernĉambro kelk...   \n",
       "30  mi esperas ke ĉe la temanĝo oni ne forgesos ŝi...   \n",
       "\n",
       "                                            clean_tgt  \n",
       "3   alice beginning get tired sitting sister bank ...  \n",
       "6   oh dear shall late thought afterwards occurred...  \n",
       "11  took jar one shelves passed labelled orange ma...  \n",
       "19  see alice learnt several things sort lessons s...  \n",
       "30           hope theyll remember saucer milk teatime  "
      ]
     },
     "execution_count": 51,
     "metadata": {},
     "output_type": "execute_result"
    }
   ],
   "source": [
    "df_filtered['clean_tgt'] = df_filtered['tgt'].apply(preprocess)\n",
    "df_filtered.head()"
   ]
  }
 ],
 "metadata": {
  "kernelspec": {
   "display_name": "jovani",
   "language": "python",
   "name": "python3"
  },
  "language_info": {
   "codemirror_mode": {
    "name": "ipython",
    "version": 3
   },
   "file_extension": ".py",
   "mimetype": "text/x-python",
   "name": "python",
   "nbconvert_exporter": "python",
   "pygments_lexer": "ipython3",
   "version": "3.9.21"
  }
 },
 "nbformat": 4,
 "nbformat_minor": 2
}
