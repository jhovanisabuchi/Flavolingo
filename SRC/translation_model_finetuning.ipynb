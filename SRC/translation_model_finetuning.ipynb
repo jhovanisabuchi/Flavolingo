{
 "cells": [
  {
   "cell_type": "code",
   "execution_count": 1,
   "metadata": {},
   "outputs": [],
   "source": [
    "import pandas as pd"
   ]
  },
  {
   "cell_type": "code",
   "execution_count": 2,
   "metadata": {},
   "outputs": [
    {
     "data": {
      "application/vnd.microsoft.datawrangler.viewer.v0+json": {
       "columns": [
        {
         "name": "index",
         "rawType": "int64",
         "type": "integer"
        },
        {
         "name": "Unnamed: 0",
         "rawType": "int64",
         "type": "integer"
        },
        {
         "name": "title",
         "rawType": "object",
         "type": "string"
        },
        {
         "name": "ingredients",
         "rawType": "object",
         "type": "string"
        },
        {
         "name": "directions",
         "rawType": "object",
         "type": "string"
        },
        {
         "name": "link",
         "rawType": "object",
         "type": "string"
        },
        {
         "name": "source",
         "rawType": "object",
         "type": "string"
        },
        {
         "name": "NER",
         "rawType": "object",
         "type": "string"
        }
       ],
       "conversionMethod": "pd.DataFrame",
       "ref": "86b471af-8c2f-4b59-aff0-a9a52010d89e",
       "rows": [
        [
         "0",
         "0",
         "No-Bake Nut Cookies",
         "[\"1 c. firmly packed brown sugar\", \"1/2 c. evaporated milk\", \"1/2 tsp. vanilla\", \"1/2 c. broken nuts (pecans)\", \"2 Tbsp. butter or margarine\", \"3 1/2 c. bite size shredded rice biscuits\"]",
         "[\"In a heavy 2-quart saucepan, mix brown sugar, nuts, evaporated milk and butter or margarine.\", \"Stir over medium heat until mixture bubbles all over top.\", \"Boil and stir 5 minutes more. Take off heat.\", \"Stir in vanilla and cereal; mix well.\", \"Using 2 teaspoons, drop and shape into 30 clusters on wax paper.\", \"Let stand until firm, about 30 minutes.\"]",
         "www.cookbooks.com/Recipe-Details.aspx?id=44874",
         "Gathered",
         "[\"brown sugar\", \"milk\", \"vanilla\", \"nuts\", \"butter\", \"bite size shredded rice biscuits\"]"
        ],
        [
         "1",
         "1",
         "Jewell Ball'S Chicken",
         "[\"1 small jar chipped beef, cut up\", \"4 boned chicken breasts\", \"1 can cream of mushroom soup\", \"1 carton sour cream\"]",
         "[\"Place chipped beef on bottom of baking dish.\", \"Place chicken on top of beef.\", \"Mix soup and cream together; pour over chicken. Bake, uncovered, at 275\\u00b0 for 3 hours.\"]",
         "www.cookbooks.com/Recipe-Details.aspx?id=699419",
         "Gathered",
         "[\"beef\", \"chicken breasts\", \"cream of mushroom soup\", \"sour cream\"]"
        ],
        [
         "2",
         "2",
         "Creamy Corn",
         "[\"2 (16 oz.) pkg. frozen corn\", \"1 (8 oz.) pkg. cream cheese, cubed\", \"1/3 c. butter, cubed\", \"1/2 tsp. garlic powder\", \"1/2 tsp. salt\", \"1/4 tsp. pepper\"]",
         "[\"In a slow cooker, combine all ingredients. Cover and cook on low for 4 hours or until heated through and cheese is melted. Stir well before serving. Yields 6 servings.\"]",
         "www.cookbooks.com/Recipe-Details.aspx?id=10570",
         "Gathered",
         "[\"frozen corn\", \"cream cheese\", \"butter\", \"garlic powder\", \"salt\", \"pepper\"]"
        ],
        [
         "3",
         "3",
         "Chicken Funny",
         "[\"1 large whole chicken\", \"2 (10 1/2 oz.) cans chicken gravy\", \"1 (10 1/2 oz.) can cream of mushroom soup\", \"1 (6 oz.) box Stove Top stuffing\", \"4 oz. shredded cheese\"]",
         "[\"Boil and debone chicken.\", \"Put bite size pieces in average size square casserole dish.\", \"Pour gravy and cream of mushroom soup over chicken; level.\", \"Make stuffing according to instructions on box (do not make too moist).\", \"Put stuffing on top of chicken and gravy; level.\", \"Sprinkle shredded cheese on top and bake at 350\\u00b0 for approximately 20 minutes or until golden and bubbly.\"]",
         "www.cookbooks.com/Recipe-Details.aspx?id=897570",
         "Gathered",
         "[\"chicken\", \"chicken gravy\", \"cream of mushroom soup\", \"shredded cheese\"]"
        ],
        [
         "4",
         "4",
         "Reeses Cups(Candy)  ",
         "[\"1 c. peanut butter\", \"3/4 c. graham cracker crumbs\", \"1 c. melted butter\", \"1 lb. (3 1/2 c.) powdered sugar\", \"1 large pkg. chocolate chips\"]",
         "[\"Combine first four ingredients and press in 13 x 9-inch ungreased pan.\", \"Melt chocolate chips and spread over mixture. Refrigerate for about 20 minutes and cut into pieces before chocolate gets hard.\", \"Keep in refrigerator.\"]",
         "www.cookbooks.com/Recipe-Details.aspx?id=659239",
         "Gathered",
         "[\"peanut butter\", \"graham cracker crumbs\", \"butter\", \"powdered sugar\", \"chocolate chips\"]"
        ]
       ],
       "shape": {
        "columns": 7,
        "rows": 5
       }
      },
      "text/html": [
       "<div>\n",
       "<style scoped>\n",
       "    .dataframe tbody tr th:only-of-type {\n",
       "        vertical-align: middle;\n",
       "    }\n",
       "\n",
       "    .dataframe tbody tr th {\n",
       "        vertical-align: top;\n",
       "    }\n",
       "\n",
       "    .dataframe thead th {\n",
       "        text-align: right;\n",
       "    }\n",
       "</style>\n",
       "<table border=\"1\" class=\"dataframe\">\n",
       "  <thead>\n",
       "    <tr style=\"text-align: right;\">\n",
       "      <th></th>\n",
       "      <th>Unnamed: 0</th>\n",
       "      <th>title</th>\n",
       "      <th>ingredients</th>\n",
       "      <th>directions</th>\n",
       "      <th>link</th>\n",
       "      <th>source</th>\n",
       "      <th>NER</th>\n",
       "    </tr>\n",
       "  </thead>\n",
       "  <tbody>\n",
       "    <tr>\n",
       "      <th>0</th>\n",
       "      <td>0</td>\n",
       "      <td>No-Bake Nut Cookies</td>\n",
       "      <td>[\"1 c. firmly packed brown sugar\", \"1/2 c. eva...</td>\n",
       "      <td>[\"In a heavy 2-quart saucepan, mix brown sugar...</td>\n",
       "      <td>www.cookbooks.com/Recipe-Details.aspx?id=44874</td>\n",
       "      <td>Gathered</td>\n",
       "      <td>[\"brown sugar\", \"milk\", \"vanilla\", \"nuts\", \"bu...</td>\n",
       "    </tr>\n",
       "    <tr>\n",
       "      <th>1</th>\n",
       "      <td>1</td>\n",
       "      <td>Jewell Ball'S Chicken</td>\n",
       "      <td>[\"1 small jar chipped beef, cut up\", \"4 boned ...</td>\n",
       "      <td>[\"Place chipped beef on bottom of baking dish....</td>\n",
       "      <td>www.cookbooks.com/Recipe-Details.aspx?id=699419</td>\n",
       "      <td>Gathered</td>\n",
       "      <td>[\"beef\", \"chicken breasts\", \"cream of mushroom...</td>\n",
       "    </tr>\n",
       "    <tr>\n",
       "      <th>2</th>\n",
       "      <td>2</td>\n",
       "      <td>Creamy Corn</td>\n",
       "      <td>[\"2 (16 oz.) pkg. frozen corn\", \"1 (8 oz.) pkg...</td>\n",
       "      <td>[\"In a slow cooker, combine all ingredients. C...</td>\n",
       "      <td>www.cookbooks.com/Recipe-Details.aspx?id=10570</td>\n",
       "      <td>Gathered</td>\n",
       "      <td>[\"frozen corn\", \"cream cheese\", \"butter\", \"gar...</td>\n",
       "    </tr>\n",
       "    <tr>\n",
       "      <th>3</th>\n",
       "      <td>3</td>\n",
       "      <td>Chicken Funny</td>\n",
       "      <td>[\"1 large whole chicken\", \"2 (10 1/2 oz.) cans...</td>\n",
       "      <td>[\"Boil and debone chicken.\", \"Put bite size pi...</td>\n",
       "      <td>www.cookbooks.com/Recipe-Details.aspx?id=897570</td>\n",
       "      <td>Gathered</td>\n",
       "      <td>[\"chicken\", \"chicken gravy\", \"cream of mushroo...</td>\n",
       "    </tr>\n",
       "    <tr>\n",
       "      <th>4</th>\n",
       "      <td>4</td>\n",
       "      <td>Reeses Cups(Candy)</td>\n",
       "      <td>[\"1 c. peanut butter\", \"3/4 c. graham cracker ...</td>\n",
       "      <td>[\"Combine first four ingredients and press in ...</td>\n",
       "      <td>www.cookbooks.com/Recipe-Details.aspx?id=659239</td>\n",
       "      <td>Gathered</td>\n",
       "      <td>[\"peanut butter\", \"graham cracker crumbs\", \"bu...</td>\n",
       "    </tr>\n",
       "  </tbody>\n",
       "</table>\n",
       "</div>"
      ],
      "text/plain": [
       "   Unnamed: 0                  title  \\\n",
       "0           0    No-Bake Nut Cookies   \n",
       "1           1  Jewell Ball'S Chicken   \n",
       "2           2            Creamy Corn   \n",
       "3           3          Chicken Funny   \n",
       "4           4   Reeses Cups(Candy)     \n",
       "\n",
       "                                         ingredients  \\\n",
       "0  [\"1 c. firmly packed brown sugar\", \"1/2 c. eva...   \n",
       "1  [\"1 small jar chipped beef, cut up\", \"4 boned ...   \n",
       "2  [\"2 (16 oz.) pkg. frozen corn\", \"1 (8 oz.) pkg...   \n",
       "3  [\"1 large whole chicken\", \"2 (10 1/2 oz.) cans...   \n",
       "4  [\"1 c. peanut butter\", \"3/4 c. graham cracker ...   \n",
       "\n",
       "                                          directions  \\\n",
       "0  [\"In a heavy 2-quart saucepan, mix brown sugar...   \n",
       "1  [\"Place chipped beef on bottom of baking dish....   \n",
       "2  [\"In a slow cooker, combine all ingredients. C...   \n",
       "3  [\"Boil and debone chicken.\", \"Put bite size pi...   \n",
       "4  [\"Combine first four ingredients and press in ...   \n",
       "\n",
       "                                              link    source  \\\n",
       "0   www.cookbooks.com/Recipe-Details.aspx?id=44874  Gathered   \n",
       "1  www.cookbooks.com/Recipe-Details.aspx?id=699419  Gathered   \n",
       "2   www.cookbooks.com/Recipe-Details.aspx?id=10570  Gathered   \n",
       "3  www.cookbooks.com/Recipe-Details.aspx?id=897570  Gathered   \n",
       "4  www.cookbooks.com/Recipe-Details.aspx?id=659239  Gathered   \n",
       "\n",
       "                                                 NER  \n",
       "0  [\"brown sugar\", \"milk\", \"vanilla\", \"nuts\", \"bu...  \n",
       "1  [\"beef\", \"chicken breasts\", \"cream of mushroom...  \n",
       "2  [\"frozen corn\", \"cream cheese\", \"butter\", \"gar...  \n",
       "3  [\"chicken\", \"chicken gravy\", \"cream of mushroo...  \n",
       "4  [\"peanut butter\", \"graham cracker crumbs\", \"bu...  "
      ]
     },
     "execution_count": 2,
     "metadata": {},
     "output_type": "execute_result"
    }
   ],
   "source": [
    "NLG_df = pd.read_csv(r\"C:\\Users\\johnk\\Downloads\\RecipeNLG_dataset.csv\\RecipeNLG_dataset.csv\")\n",
    "\n",
    "NLG_df.head()"
   ]
  },
  {
   "cell_type": "code",
   "execution_count": 3,
   "metadata": {},
   "outputs": [
    {
     "name": "stderr",
     "output_type": "stream",
     "text": [
      "c:\\Users\\johnk\\anaconda3\\envs\\jovani\\lib\\site-packages\\tqdm\\auto.py:21: TqdmWarning: IProgress not found. Please update jupyter and ipywidgets. See https://ipywidgets.readthedocs.io/en/stable/user_install.html\n",
      "  from .autonotebook import tqdm as notebook_tqdm\n",
      "Using the latest cached version of the dataset since nguyenkhoa/recipe1M_v2 couldn't be found on the Hugging Face Hub\n",
      "Found the latest cached dataset configuration 'default' at C:\\Users\\johnk\\.cache\\huggingface\\datasets\\nguyenkhoa___recipe1_m_v2\\default\\0.0.0\\fb3420c2eb532f770928696fcb572fef656558b6 (last modified on Tue Apr  1 11:59:40 2025).\n"
     ]
    },
    {
     "data": {
      "application/vnd.microsoft.datawrangler.viewer.v0+json": {
       "columns": [
        {
         "name": "index",
         "rawType": "int64",
         "type": "integer"
        },
        {
         "name": "title",
         "rawType": "object",
         "type": "string"
        },
        {
         "name": "ingredients_processed",
         "rawType": "object",
         "type": "string"
        },
        {
         "name": "directions",
         "rawType": "object",
         "type": "string"
        },
        {
         "name": "NER",
         "rawType": "object",
         "type": "string"
        },
        {
         "name": "link",
         "rawType": "object",
         "type": "string"
        }
       ],
       "conversionMethod": "pd.DataFrame",
       "ref": "46ecaf0e-2ec7-4f92-ae3e-aa36464bbd91",
       "rows": [
        [
         "0",
         "Strawberry Rhubarb Dump Cake",
         "6 -8 cups fresh rhubarb, or. 6 -8 cups frozen rhubarb, thawed. 1 12 cups granulated sugar. 6 ounces strawberry Jell-O gelatin dessert. 1 white cake mix (2 layer size). 1 12 cups water. 12 cup butter or 12 cup margarine, melted. ",
         "Put ingredients in a buttered 9 x 12 x 2-inch pan in even layers in the order that they are given - DO NOT MIX. Bake in a 350 oven for 1 hour. ",
         "fresh rhubarb. frozen rhubarb. granulated sugar. strawberry Jell - O gelatin dessert. white cake mix. water. butter. ",
         "http://www.food.com/recipe/strawberry-rhubarb-dump-cake-408694"
        ],
        [
         "1",
         "Yogurt Parfaits",
         "8 ounces, weight Light Fat Free Vanilla Yogurt (I Used Activia). 1 cup Fresh Sliced Strawberries. 1/4 cups Low-fat Granola. ",
         "Layer all ingredients in a serving dish. ",
         "non - fat vanilla yogurt. strawberries. low - fat granola. ",
         "http://tastykitchen.com/recipes/breakfastbrunch/yogurt-parfaits/"
        ],
        [
         "2",
         "Fennel-Rubbed Pork Tenderloin with Roasted Fennel Wedges",
         "1 teaspoon fennel seeds. 1 pound pork tenderloin. 2 medium fennel bulbs, trimmed, reserving fronds. 2 tablespoons extra-virgin olive oil. 3 garlic cloves, smashed. 1/4 cup dry white wine. 1/2 cup reduced-sodium chicken broth. 2 tablespoons unsalted butter, cut into pieces. 1/2 teaspoon fresh lemon juice, or to taste. ",
         "Preheat oven to 350F with rack in middle. Crush fennel seeds with a mortar and pestle or wrap in a kitchen towel and crush with bottom of a heavy skillet. Pat pork dry, then sprinkle with crushed fennel seeds and 1/2 teaspoon each of salt and pepper. Cut fennel bulbs lengthwise into 1/2-inch wedges. Heat oil in a 12-inch oven-proof heavy skillet over medium-high heat until it shimmers. Brown pork on all sides, about 6 minutes total, then transfer to a plate. Saute garlic and fennel wedges in skillet until fennel is golden brown, about 6 minutes. Add wine, stirring and scraping up brown bits, then stir in broth and butter. Put pork on top of fennel and transfer skillet to oven. Roast until an instant-read thermometer inserted into center of pork registers 145 to 150F, about 15 minutes. Transfer pork to a cutting board and let rest 10 minutes. Meanwhile, transfer skillet to stovetop (handle will be hot) and boil, stirring occasionally, until most of liquid has evaporated. Stir in lemon juice and 1/4 cup chopped fennel fronds. Thinly slice pork and serve over fennel with sauce. ",
         "fennel seeds. pork tenderloin. fennel bulbs. olive oil. garlic cloves. dry white wine. reduced - sodium chicken broth. unsalted butter. fresh lemon juice. ",
         "http://www.epicurious.com/recipes/food/views/fennel-rubbed-pork-tenderloin-with-roasted-fennel-wedges-351294"
        ],
        [
         "3",
         "Pink Sangria",
         "1 (750 ml) bottle rose wine, chilled. 14 cup brandy. 14 cup orange liqueur (Cointreau, Grand Marnier). 2 cups white cranberry juice. 1 orange, sliced. 1 lemon, sliced. 355 ml Sprite (or other citrus flavoured soft drinks). ice cube. ",
         "In a pitcher, combine all the ingredients except the soft drink and ice cubes. Refrigerate for 1 hour. Add the soft drink and ice just before serving. ",
         "rose wine. brandy. orange liqueur. white cranberry juice. orange. lemon. Sprite. ice cubes. ",
         "http://www.food.com/recipe/pink-sangria-305385"
        ],
        [
         "4",
         "Grandmommy's Mexicali Meatloaf",
         "1 12 lbs ground beef. 34 cup oats. 12 cup tomato juice. 1 egg. 2 teaspoons salt. 14 teaspoon pepper. 1 teaspoon chili powder. 2 teaspoons onions, minced. 3 tablespoons butter. 3 tablespoons flour. 2 cups milk, see not in description. 1 cup cheddar cheese, shredded. 1 (12 ounce) can Mexican-style corn, drained. 2 green peppers, small, cut into rings. ",
         "Combine beef, oats, tomato juice, egg, 1 tsp salt, pepper, chili powder, and onion in a large bowl. Do not overmix. Pack into a 9 inch square baking dish. Bake at 350 for 20 minutes, drain juices. Melt butter over medium heat, whisk in flour and 1 tsp salt. Slowly add milk while whisking. Bring to a boil. Cook one minute, add cheese.Stir in corn. Pour mixture over meat, top with green pepper rings. Bake 20 minutes. Let cool 10 minutes before cutting. Serve. ",
         "ground beef. oats. tomato juice. egg. salt. pepper. chili powder. onions. butter. flour. milk. cheddar cheese. Mexican - style corn. green peppers. ",
         "http://www.food.com/recipe/grandmommys-mexicali-meatloaf-371914"
        ]
       ],
       "shape": {
        "columns": 5,
        "rows": 5
       }
      },
      "text/html": [
       "<div>\n",
       "<style scoped>\n",
       "    .dataframe tbody tr th:only-of-type {\n",
       "        vertical-align: middle;\n",
       "    }\n",
       "\n",
       "    .dataframe tbody tr th {\n",
       "        vertical-align: top;\n",
       "    }\n",
       "\n",
       "    .dataframe thead th {\n",
       "        text-align: right;\n",
       "    }\n",
       "</style>\n",
       "<table border=\"1\" class=\"dataframe\">\n",
       "  <thead>\n",
       "    <tr style=\"text-align: right;\">\n",
       "      <th></th>\n",
       "      <th>title</th>\n",
       "      <th>ingredients_processed</th>\n",
       "      <th>directions</th>\n",
       "      <th>NER</th>\n",
       "      <th>link</th>\n",
       "    </tr>\n",
       "  </thead>\n",
       "  <tbody>\n",
       "    <tr>\n",
       "      <th>0</th>\n",
       "      <td>Strawberry Rhubarb Dump Cake</td>\n",
       "      <td>6 -8 cups fresh rhubarb, or. 6 -8 cups frozen ...</td>\n",
       "      <td>Put ingredients in a buttered 9 x 12 x 2-inch ...</td>\n",
       "      <td>fresh rhubarb. frozen rhubarb. granulated suga...</td>\n",
       "      <td>http://www.food.com/recipe/strawberry-rhubarb-...</td>\n",
       "    </tr>\n",
       "    <tr>\n",
       "      <th>1</th>\n",
       "      <td>Yogurt Parfaits</td>\n",
       "      <td>8 ounces, weight Light Fat Free Vanilla Yogurt...</td>\n",
       "      <td>Layer all ingredients in a serving dish.</td>\n",
       "      <td>non - fat vanilla yogurt. strawberries. low - ...</td>\n",
       "      <td>http://tastykitchen.com/recipes/breakfastbrunc...</td>\n",
       "    </tr>\n",
       "    <tr>\n",
       "      <th>2</th>\n",
       "      <td>Fennel-Rubbed Pork Tenderloin with Roasted Fen...</td>\n",
       "      <td>1 teaspoon fennel seeds. 1 pound pork tenderlo...</td>\n",
       "      <td>Preheat oven to 350F with rack in middle. Crus...</td>\n",
       "      <td>fennel seeds. pork tenderloin. fennel bulbs. o...</td>\n",
       "      <td>http://www.epicurious.com/recipes/food/views/f...</td>\n",
       "    </tr>\n",
       "    <tr>\n",
       "      <th>3</th>\n",
       "      <td>Pink Sangria</td>\n",
       "      <td>1 (750 ml) bottle rose wine, chilled. 14 cup b...</td>\n",
       "      <td>In a pitcher, combine all the ingredients exce...</td>\n",
       "      <td>rose wine. brandy. orange liqueur. white cranb...</td>\n",
       "      <td>http://www.food.com/recipe/pink-sangria-305385</td>\n",
       "    </tr>\n",
       "    <tr>\n",
       "      <th>4</th>\n",
       "      <td>Grandmommy's Mexicali Meatloaf</td>\n",
       "      <td>1 12 lbs ground beef. 34 cup oats. 12 cup toma...</td>\n",
       "      <td>Combine beef, oats, tomato juice, egg, 1 tsp s...</td>\n",
       "      <td>ground beef. oats. tomato juice. egg. salt. pe...</td>\n",
       "      <td>http://www.food.com/recipe/grandmommys-mexical...</td>\n",
       "    </tr>\n",
       "  </tbody>\n",
       "</table>\n",
       "</div>"
      ],
      "text/plain": [
       "                                               title  \\\n",
       "0                       Strawberry Rhubarb Dump Cake   \n",
       "1                                    Yogurt Parfaits   \n",
       "2  Fennel-Rubbed Pork Tenderloin with Roasted Fen...   \n",
       "3                                       Pink Sangria   \n",
       "4                     Grandmommy's Mexicali Meatloaf   \n",
       "\n",
       "                               ingredients_processed  \\\n",
       "0  6 -8 cups fresh rhubarb, or. 6 -8 cups frozen ...   \n",
       "1  8 ounces, weight Light Fat Free Vanilla Yogurt...   \n",
       "2  1 teaspoon fennel seeds. 1 pound pork tenderlo...   \n",
       "3  1 (750 ml) bottle rose wine, chilled. 14 cup b...   \n",
       "4  1 12 lbs ground beef. 34 cup oats. 12 cup toma...   \n",
       "\n",
       "                                          directions  \\\n",
       "0  Put ingredients in a buttered 9 x 12 x 2-inch ...   \n",
       "1          Layer all ingredients in a serving dish.    \n",
       "2  Preheat oven to 350F with rack in middle. Crus...   \n",
       "3  In a pitcher, combine all the ingredients exce...   \n",
       "4  Combine beef, oats, tomato juice, egg, 1 tsp s...   \n",
       "\n",
       "                                                 NER  \\\n",
       "0  fresh rhubarb. frozen rhubarb. granulated suga...   \n",
       "1  non - fat vanilla yogurt. strawberries. low - ...   \n",
       "2  fennel seeds. pork tenderloin. fennel bulbs. o...   \n",
       "3  rose wine. brandy. orange liqueur. white cranb...   \n",
       "4  ground beef. oats. tomato juice. egg. salt. pe...   \n",
       "\n",
       "                                                link  \n",
       "0  http://www.food.com/recipe/strawberry-rhubarb-...  \n",
       "1  http://tastykitchen.com/recipes/breakfastbrunc...  \n",
       "2  http://www.epicurious.com/recipes/food/views/f...  \n",
       "3     http://www.food.com/recipe/pink-sangria-305385  \n",
       "4  http://www.food.com/recipe/grandmommys-mexical...  "
      ]
     },
     "execution_count": 3,
     "metadata": {},
     "output_type": "execute_result"
    }
   ],
   "source": [
    "from datasets import load_dataset\n",
    "\n",
    "# Load the dataset\n",
    "recipe_dataset = load_dataset(\"nguyenkhoa/recipe1M_v2\")\n",
    "\n",
    "# Access the 'train' split (or any other split like 'test' or 'validation')\n",
    "train_split = recipe_dataset['train']\n",
    "val_split = recipe_dataset['val']\n",
    "test_split = recipe_dataset['test']\n",
    "\n",
    "# Convert to a pandas DataFrame\n",
    "import pandas as pd\n",
    "train_df = pd.DataFrame(train_split)\n",
    "val_df = pd.DataFrame(val_split)\n",
    "test_df = pd.DataFrame(test_split)\n",
    "\n",
    "# Display the first few rows\n",
    "train_df.head()"
   ]
  },
  {
   "cell_type": "code",
   "execution_count": 4,
   "metadata": {},
   "outputs": [],
   "source": [
    "# Load model directly\n",
    "from transformers import AutoTokenizer, AutoModelForSeq2SeqLM\n",
    "\n",
    "tokenizer = AutoTokenizer.from_pretrained(\"flax-community/t5-recipe-generation\")\n",
    "model = AutoModelForSeq2SeqLM.from_pretrained(\"flax-community/t5-recipe-generation\")"
   ]
  }
 ],
 "metadata": {
  "kernelspec": {
   "display_name": "jovani",
   "language": "python",
   "name": "python3"
  },
  "language_info": {
   "codemirror_mode": {
    "name": "ipython",
    "version": 3
   },
   "file_extension": ".py",
   "mimetype": "text/x-python",
   "name": "python",
   "nbconvert_exporter": "python",
   "pygments_lexer": "ipython3",
   "version": "3.9.21"
  }
 },
 "nbformat": 4,
 "nbformat_minor": 2
}
