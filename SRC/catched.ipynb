{
 "cells": [
  {
   "cell_type": "code",
   "execution_count": 9,
   "id": "7e6db565",
   "metadata": {},
   "outputs": [
    {
     "name": "stderr",
     "output_type": "stream",
     "text": [
      "2025-05-01 12:11:55.048 No runtime found, using MemoryCacheStorageManager\n",
      "2025-05-01 12:11:55.066 No runtime found, using MemoryCacheStorageManager\n",
      "2025-05-01 12:11:55.070 No runtime found, using MemoryCacheStorageManager\n",
      "2025-05-01 12:11:55.072 No runtime found, using MemoryCacheStorageManager\n"
     ]
    }
   ],
   "source": [
    "import sys\n",
    "import os\n",
    "\n",
    "# Add the path of the streamlit_app folder where recipe_pipeline.py is located\n",
    "sys.path.append(r'C:\\Users\\johnk\\Flavolingo\\streamlit_app')\n",
    "\n",
    "import streamlit as st\n",
    "from recipe_pipeline import (\n",
    "    translate_to_english,\n",
    "    generate_multiple_recipes,\n",
    "    translate_back,\n",
    ")\n",
    "from recommendation import recommend_based_on_cuisin_liked_recipes_or_ingredients\n",
    "\n",
    "@st.cache_data(show_spinner=False)\n",
    "def cached_translate_to_english(ingredients, language):\n",
    "    return translate_to_english(ingredients, language)\n",
    "\n",
    "@st.cache_data(show_spinner=False)\n",
    "def cached_generate_multiple_recipes(translated_ingredients, num_recipes=5):\n",
    "    return generate_multiple_recipes(translated_ingredients, num_recipes)\n",
    "\n",
    "@st.cache_data(show_spinner=False)\n",
    "def cached_translate_back(recipe, language):\n",
    "    return translate_back(recipe, language)\n",
    "\n",
    "@st.cache_data(show_spinner=False)\n",
    "def cached_recommend(liked_recipes, input_ingredients, preferred_cuisin, top_n, additional_n, selected_language):\n",
    "    return recommend_based_on_cuisin_liked_recipes_or_ingredients(\n",
    "        str(liked_recipes), str(input_ingredients), str(preferred_cuisin), \n",
    "        top_n, additional_n, selected_language\n",
    "    )\n"
   ]
  }
 ],
 "metadata": {
  "kernelspec": {
   "display_name": "jovani",
   "language": "python",
   "name": "python3"
  },
  "language_info": {
   "codemirror_mode": {
    "name": "ipython",
    "version": 3
   },
   "file_extension": ".py",
   "mimetype": "text/x-python",
   "name": "python",
   "nbconvert_exporter": "python",
   "pygments_lexer": "ipython3",
   "version": "3.9.21"
  }
 },
 "nbformat": 4,
 "nbformat_minor": 5
}
